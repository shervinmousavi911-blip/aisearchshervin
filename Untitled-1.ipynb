{
 "cells": [
  {
   "cell_type": "code",
   "execution_count": 6,
   "id": "5a310962",
   "metadata": {},
   "outputs": [
    {
     "ename": "ModuleNotFoundError",
     "evalue": "No module named 'hazm'",
     "output_type": "error",
     "traceback": [
      "\u001b[31m---------------------------------------------------------------------------\u001b[39m",
      "\u001b[31mModuleNotFoundError\u001b[39m                       Traceback (most recent call last)",
      "\u001b[36mCell\u001b[39m\u001b[36m \u001b[39m\u001b[32mIn[6]\u001b[39m\u001b[32m, line 2\u001b[39m\n\u001b[32m      1\u001b[39m \u001b[38;5;28;01mimport\u001b[39;00m\u001b[38;5;250m \u001b[39m\u001b[34;01mnltk\u001b[39;00m\n\u001b[32m----> \u001b[39m\u001b[32m2\u001b[39m \u001b[38;5;28;01mfrom\u001b[39;00m\u001b[38;5;250m \u001b[39m\u001b[34;01mhazm\u001b[39;00m\u001b[38;5;250m \u001b[39m\u001b[38;5;28;01mimport\u001b[39;00m *\n\u001b[32m      3\u001b[39m nltk.download(\u001b[33m'\u001b[39m\u001b[33mall\u001b[39m\u001b[33m'\u001b[39m)\n",
      "\u001b[31mModuleNotFoundError\u001b[39m: No module named 'hazm'"
     ]
    }
   ],
   "source": [
    "import nltk\n",
    "from hazm import *\n",
    "nltk.download('all')\n"
   ]
  },
  {
   "cell_type": "code",
   "execution_count": 2,
   "id": "45bdbfc3",
   "metadata": {},
   "outputs": [
    {
     "name": "stdout",
     "output_type": "stream",
     "text": [
      "[INFO] Chatbot آماده است. برای خروج 'exit' تایپ کنید.\n",
      "Bot: موسوی 52 سال دارد\n"
     ]
    }
   ],
   "source": [
    "# chatbot_run_free.py\n",
    "import json\n",
    "import numpy as np\n",
    "from tensorflow.keras.models import load_model\n",
    "from tensorflow.keras.preprocessing.sequence import pad_sequences\n",
    "from tensorflow.keras.preprocessing.text import tokenizer_from_json\n",
    "\n",
    "# =========================================\n",
    "# 1️⃣ بارگذاری مدل Seq2Seq\n",
    "# =========================================\n",
    "model = load_model(\"models/seq2seq_chatbot.h5\")\n",
    "\n",
    "with open(\"models/input_tokenizer.json\", \"r\", encoding=\"utf-8\") as f:\n",
    "    input_tokenizer = tokenizer_from_json(json.load(f))\n",
    "\n",
    "with open(\"models/target_tokenizer.json\", \"r\", encoding=\"utf-8\") as f:\n",
    "    target_tokenizer = tokenizer_from_json(json.load(f))\n",
    "\n",
    "max_encoder_seq_length = 20\n",
    "max_decoder_seq_length = 25\n",
    "\n",
    "# =========================================\n",
    "# 2️⃣ تابع تولید پاسخ\n",
    "# =========================================\n",
    "def generate_response(user_input):\n",
    "    input_seq = input_tokenizer.texts_to_sequences([user_input])\n",
    "    encoder_input = pad_sequences(input_seq, maxlen=max_encoder_seq_length, padding='post')\n",
    "\n",
    "    decoder_input = np.zeros((1, max_decoder_seq_length))\n",
    "    start_token = target_tokenizer.word_index.get('\\t', 1)\n",
    "    decoder_input[0, 0] = start_token\n",
    "\n",
    "    output_sentence = ''\n",
    "    previous_words = set()\n",
    "    for t in range(1, max_decoder_seq_length):\n",
    "        preds = model.predict([encoder_input, decoder_input], verbose=0)\n",
    "        next_word_id = np.argmax(preds[0, t-1, :])\n",
    "        next_word = None\n",
    "        for word, index in target_tokenizer.word_index.items():\n",
    "            if index == next_word_id:\n",
    "                next_word = word\n",
    "                break\n",
    "        if next_word in ('\\n', None):\n",
    "            break\n",
    "        if next_word in previous_words:\n",
    "            break\n",
    "        output_sentence += next_word + ' '\n",
    "        previous_words.add(next_word)\n",
    "        decoder_input[0, t] = next_word_id\n",
    "\n",
    "    if not output_sentence.strip():\n",
    "        output_sentence = \"متاسفانه نمی‌توانم پاسخ دهم.\"\n",
    "    return output_sentence.strip()\n",
    "\n",
    "# =========================================\n",
    "# 3️⃣ محیط تعاملی\n",
    "# =========================================\n",
    "print(\"[INFO] Chatbot آماده است. برای خروج 'exit' تایپ کنید.\")\n",
    "while True:\n",
    "    user_input = input(\">> \").strip()\n",
    "    if user_input.lower() == \"exit\":\n",
    "        break\n",
    "\n",
    "    response = generate_response(user_input)\n",
    "    print(\"Bot:\", response)\n"
   ]
  }
 ],
 "metadata": {
  "kernelspec": {
   "display_name": "venv",
   "language": "python",
   "name": "python3"
  },
  "language_info": {
   "codemirror_mode": {
    "name": "ipython",
    "version": 3
   },
   "file_extension": ".py",
   "mimetype": "text/x-python",
   "name": "python",
   "nbconvert_exporter": "python",
   "pygments_lexer": "ipython3",
   "version": "3.8.8"
  }
 },
 "nbformat": 4,
 "nbformat_minor": 5
}
